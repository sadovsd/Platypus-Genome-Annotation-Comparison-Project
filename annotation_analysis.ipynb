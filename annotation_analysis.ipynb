{
 "cells": [
  {
   "cell_type": "code",
   "execution_count": 2,
   "id": "cfb4a78c-ca77-4b6e-b218-8303548eab3d",
   "metadata": {},
   "outputs": [],
   "source": [
    "import pyranges as pr\n",
    "import pandas as pd\n",
    "import gzip\n",
    "import time\n",
    "import matplotlib.pyplot as plt\n",
    "import matplotlib.patches as mpatches\n",
    "import numpy as np"
   ]
  },
  {
   "cell_type": "code",
   "execution_count": 193,
   "id": "135afd1f-1025-4ba7-9cb5-89fac631e7c2",
   "metadata": {},
   "outputs": [],
   "source": [
    "class Annotation:\n",
    "    \n",
    "    def __init__(self, gtf_file_name):  \n",
    "        \n",
    "        self.gtf_df = self.parse_gtf(gtf_file_name)\n",
    "        dfs = self.create_reduced_dfs(self.gtf_df)\n",
    "        self.genes = dfs[0]\n",
    "        self.transcripts = dfs[1]\n",
    "        self.exons = dfs[2]\n",
    "        \n",
    "    def parse_gtf(self, gtf_file_name):\n",
    "        \"\"\"\n",
    "        Opens a zipped gtf file and parses it for gene information\n",
    "        :param gtf_file_name: A .gz zipped file\n",
    "        :return:\n",
    "        \"\"\"\n",
    "        \n",
    "        # Open the zipped gtf file\n",
    "        f = gzip.open(gtf_file_name, 'r')\n",
    "        file_content = f.read()\n",
    "        file_content = file_content.decode('utf-8')\n",
    "        f_out = open(gtf_file_name[:-3], 'w+')  # Create the .gtf file that is extracted form the zipped .gz file\n",
    "        f_out.write(file_content)\n",
    "        f.close()\n",
    "        f_out.close()\n",
    "        # Turn the .gtf file into a pandas dataframe\n",
    "        gene_info_pr = pr.read_gtf(gtf_file_name[:-3])\n",
    "        gene_info = gene_info_pr.df\n",
    "        return gene_info\n",
    "    \n",
    "    def create_reduced_dfs(self, gtf_df):\n",
    "        \"\"\"\n",
    "        Creates dataframes that only include entries from the gtf_df that are genes, transcripts, or exons. The columns are reduced\n",
    "        :return: a tuple of dataframes (genes, transcripts, exons)\n",
    "        \"\"\"\n",
    "        \n",
    "        genes = gtf_df[gtf_df[\"Feature\"] == \"gene\"].loc[:,['gene_id', 'gene_name', 'gene_biotype', 'Chromosome', 'Strand', \n",
    "                                                            'Source', 'Start', 'End', 'gene_version']]\n",
    "        transcripts = gtf_df[gtf_df[\"Feature\"] == \"transcript\"].loc[:,['transcript_id', 'gene_id',  'transcript_name', 'transcript_biotype',\n",
    "                                                                  'Start', 'End', 'transcript_version']]\n",
    "        exons = gtf_df[gtf_df[\"Feature\"] == \"exon\"].loc[:,['exon_id', 'gene_id', 'transcript_id', 'exon_number', 'Start', 'End',\n",
    "                                                            'exon_version']]\n",
    "        \n",
    "        return genes, transcripts, exons\n",
    "    \n",
    "        \n",
    "    def create_database_table_files(self, gname, tname, ename):\n",
    "        \"\"\"\n",
    "        Creates tab delimited text files that can be used to construct mysql tables\n",
    "        :param gtf_df: A gtf info dataframe with all the columns still in it\n",
    "        \"\"\"\n",
    "        \n",
    "        self.genes.to_csv(gname, sep=\"\\t\", index=None)\n",
    "        self.transcripts.to_csv(tname, sep=\"\\t\", index=None)\n",
    "        self.exons.to_csv(ename, sep=\"\\t\", index=None)\n",
    "        \n",
    "        \n",
    "    def find_num_chromosomes(self):\n",
    "        \"\"\"\n",
    "        Counts the number of chromosomes in an assembly and the number of contigs, and prints the output\n",
    "        \"\"\"\n",
    "        \n",
    "        chrom_contig = self.genes[\"Chromosome\"].value_counts().index\n",
    "        contig = 0\n",
    "        chrom = 0\n",
    "        for string in chrom_contig:\n",
    "            if \"Contig\" in string or \"Ultra\" in string or \"RZJT\" in string:\n",
    "                contig += 1\n",
    "            else:\n",
    "                chrom += 1\n",
    "    \n",
    "        print(contig, chrom)\n",
    "        \n",
    "    def find_genes_with_name(self):\n",
    "        \"\"\"\n",
    "        Returns a dataframe that only includes genes with a non 'NaN' value for their gene name\n",
    "        :return: a dataframe of genes\n",
    "        \"\"\"\n",
    "        \n",
    "        return self.genes[~self.genes[\"gene_name\"].isna()]\n",
    "    \n",
    "    \n",
    "    def find_non_redundant_genes(self):\n",
    "        \"\"\"\n",
    "        Returns a dataframe of genes with no repeats in the gene names\n",
    "        :return: a dataframe of genes\n",
    "        \"\"\"\n",
    "        \n",
    "        return set(self.genes[\"gene_name\"])\n",
    "    \n",
    "    def find_shared_gene_ids(self, genes):\n",
    "        \"\"\"\n",
    "        Returns a set of genes with gene ids that are present in both the versions being compared\n",
    "        :param genes: the dataframe of genes that is being compared\n",
    "        :return: a set of gene ids\n",
    "        \"\"\"\n",
    "        \n",
    "        sg1 = set(self.genes[\"gene_id\"])\n",
    "        sg2 = set(genes[\"gene_id\"])\n",
    "        shared_ids = sg1.intersection(sg2)\n",
    "        \n",
    "        return shared_ids\n",
    "\n",
    "        \n",
    "    def find_unique_gene_ids(self, genes):\n",
    "        \"\"\"\n",
    "        Returns a dataframe of genes with gene ids that are only present in the version that is being compared\n",
    "        :param genes: the dataframe of genes that is being compared\n",
    "        :return: a datfarame of genes\n",
    "        \"\"\"\n",
    "        \n",
    "        sg1 = set(self.genes[\"gene_id\"])\n",
    "        sg2 = set(genes[\"gene_id\"])\n",
    "\n",
    "        unique_gene_ids = sg1 - sg2\n",
    "        unique_gene_ids_df = self.genes[self.genes[\"gene_id\"].isin(unique_gene_ids)]\n",
    "\n",
    "        return unique_gene_ids_df\n",
    "    \n",
    "    def find_unique_gene_names(self, genes):\n",
    "        \"\"\"\n",
    "        Returns a dataframe of genes with gene names that are only present in the version that is being compared\n",
    "        :param genes: the dataframe of genes that is being compared\n",
    "        :return: a datfarame of genes\n",
    "        \"\"\"\n",
    "        \n",
    "        sg1 = set(self.genes[\"gene_name\"])\n",
    "        sg2 = set(genes[\"gene_name\"])\n",
    "\n",
    "        unique_gene_ids = sg1 - sg2\n",
    "        unique_gene_ids_df = self.genes[self.genes[\"gene_name\"].isin(unique_gene_ids)]\n",
    "\n",
    "        return unique_gene_ids_df\n",
    "    \n",
    "        \n",
    "    def get_gtf(self):\n",
    "        \"\"\"\n",
    "        Returns the gtf dataframe\n",
    "        :return: gtf dataframe\n",
    "        \"\"\"\n",
    "        \n",
    "        return self.gtf_df\n",
    "    \n",
    "    def get_genes(self):\n",
    "        \"\"\"\n",
    "        Returns the genes dataframe\n",
    "        :return: genes dataframe\n",
    "        \"\"\"\n",
    "        \n",
    "        return self.genes\n",
    "    \n",
    "    def get_transcripts(self):\n",
    "        \"\"\"\n",
    "        Returns the genes dataframe\n",
    "        :return: genes dataframe\n",
    "        \"\"\"\n",
    "        \n",
    "        return self.transcripts\n",
    "    \n",
    "    def get_exons(self):\n",
    "        \"\"\"\n",
    "        Returns the genes dataframe\n",
    "        :return: genes dataframe\n",
    "        \"\"\"\n",
    "        \n",
    "        return self.exons\n",
    "    "
   ]
  },
  {
   "cell_type": "code",
   "execution_count": 200,
   "id": "159d1599-adad-4634-8534-89b8004466b1",
   "metadata": {},
   "outputs": [],
   "source": [
    "old = Annotation(\"Ornithorhynchus_anatinus.OANA5.97.gtf.gz\")\n",
    "new = Annotation(\"Ornithorhynchus_anatinus.mOrnAna1.p.v1.108.gtf.gz\")"
   ]
  },
  {
   "cell_type": "markdown",
   "id": "14a38954-41e8-4342-8c4b-3907c4deef8a",
   "metadata": {},
   "source": [
    "### Creating files for the database"
   ]
  },
  {
   "cell_type": "code",
   "execution_count": 201,
   "id": "9117fff1-227e-446f-b89c-946a5a7dca50",
   "metadata": {},
   "outputs": [],
   "source": [
    "old.create_database_table_files(\"Old_Gene.txt\", \"Old_Transcript.txt\", \"Old_Exon.txt\")\n",
    "new.create_database_table_files(\"New_Gene.txt\", \"New_Transcript.txt\", \"New_Exon.txt\")"
   ]
  },
  {
   "cell_type": "markdown",
   "id": "cb52dadc-19d2-41bc-b3b8-dfd6be52166b",
   "metadata": {},
   "source": [
    "### Finding information for first table on webpage"
   ]
  },
  {
   "cell_type": "code",
   "execution_count": 202,
   "id": "d693947c-35aa-4e1e-a000-402215f94e22",
   "metadata": {},
   "outputs": [
    {
     "name": "stdout",
     "output_type": "stream",
     "text": [
      "29776 26272\n"
     ]
    }
   ],
   "source": [
    "# Find total number of genes in each assembly\n",
    "print(len(old.genes), len(new.genes))"
   ]
  },
  {
   "cell_type": "code",
   "execution_count": 203,
   "id": "e7afe4d7-ce9e-4074-a4cc-19617bdc8828",
   "metadata": {},
   "outputs": [
    {
     "name": "stdout",
     "output_type": "stream",
     "text": [
      "32009 42892\n"
     ]
    }
   ],
   "source": [
    "# Find total number of transcripts in each assembly\n",
    "print(len(old.transcripts), len(new.transcripts))"
   ]
  },
  {
   "cell_type": "code",
   "execution_count": 204,
   "id": "8ade1745-bcef-4950-a1d7-04883f9be88f",
   "metadata": {},
   "outputs": [
    {
     "name": "stdout",
     "output_type": "stream",
     "text": [
      "15122 20\n",
      "62 27\n"
     ]
    }
   ],
   "source": [
    "# Find number of contigs and chromosomes for each assembly\n",
    "\n",
    "old.find_num_chromosomes()\n",
    "new.find_num_chromosomes()"
   ]
  },
  {
   "cell_type": "code",
   "execution_count": 205,
   "id": "73beb24d-e37c-4a48-9fd0-774453496e3d",
   "metadata": {},
   "outputs": [
    {
     "name": "stdout",
     "output_type": "stream",
     "text": [
      "10027 12251\n"
     ]
    }
   ],
   "source": [
    "# Find number of genes with names\n",
    "\n",
    "old_with_names = old.find_genes_with_name()\n",
    "new_with_names = new.find_genes_with_name()\n",
    "\n",
    "print(len(old_with_names), len(new_with_names))"
   ]
  },
  {
   "cell_type": "code",
   "execution_count": 206,
   "id": "f0f357c9-bbce-460c-b171-caa07ed222da",
   "metadata": {},
   "outputs": [
    {
     "name": "stdout",
     "output_type": "stream",
     "text": [
      "7192 11791\n"
     ]
    }
   ],
   "source": [
    "# Find number of non redundant gene names\n",
    "\n",
    "old_name_set = old.find_non_redundant_genes()\n",
    "new_name_set = new.find_non_redundant_genes()\n",
    "\n",
    "print(len(old_name_set), len(new_name_set))"
   ]
  },
  {
   "cell_type": "code",
   "execution_count": 207,
   "id": "e1cf3c71-3d94-4a06-b801-1f815917ad73",
   "metadata": {},
   "outputs": [
    {
     "name": "stdout",
     "output_type": "stream",
     "text": [
      "18879 15375\n"
     ]
    }
   ],
   "source": [
    "# Find gene ids that are in 108 and not in 97, and vice versa\n",
    "\n",
    "old_unique_ids = old.find_unique_gene_ids(new.genes)\n",
    "new_unique_ids = new.find_unique_gene_ids(old.genes)\n",
    "\n",
    "print(len(old_unique_ids), len(new_unique_ids))"
   ]
  },
  {
   "cell_type": "code",
   "execution_count": 208,
   "id": "d203e28c-6d42-4d54-a35a-8711666e7d70",
   "metadata": {},
   "outputs": [
    {
     "name": "stdout",
     "output_type": "stream",
     "text": [
      "3959 6194\n"
     ]
    }
   ],
   "source": [
    "# Find gene names that are in 108 and not in 97, and vice versa\n",
    "\n",
    "old_unique_names = old.find_unique_gene_names(new.genes)\n",
    "new_unique_names = new.find_unique_gene_names(old.genes)\n",
    "\n",
    "print(len(old_unique_names), len(new_unique_names))"
   ]
  },
  {
   "cell_type": "markdown",
   "id": "403fd089-d0a4-4fdf-9c30-1a878fceb92e",
   "metadata": {},
   "source": [
    "### Finding information for the second table in the webpage"
   ]
  },
  {
   "cell_type": "code",
   "execution_count": 209,
   "id": "971a0a08-49a3-4539-ac2a-3d6fdce95e16",
   "metadata": {},
   "outputs": [
    {
     "data": {
      "text/plain": [
       "0    ENSOANG00000000111\n",
       "1    ENSOANG00000000112\n",
       "2    ENSOANG00000000113\n",
       "Name: gene_id, dtype: object"
      ]
     },
     "execution_count": 209,
     "metadata": {},
     "output_type": "execute_result"
    }
   ],
   "source": [
    "# Finding genes in 108 with 10 transcripts\n",
    "\n",
    "new.genes[\"gene_id\"].mode()[:3]"
   ]
  },
  {
   "cell_type": "code",
   "execution_count": 210,
   "id": "fc10717c-c22c-44ca-812d-ee3f1d979451",
   "metadata": {},
   "outputs": [
    {
     "data": {
      "text/plain": [
       "0    ENSOANG00000000110\n",
       "1    ENSOANG00000000111\n",
       "2    ENSOANG00000000112\n",
       "Name: gene_id, dtype: object"
      ]
     },
     "execution_count": 210,
     "metadata": {},
     "output_type": "execute_result"
    }
   ],
   "source": [
    "# Finding genes in 108 with 4 transcripts\n",
    "\n",
    "old.genes[\"gene_id\"].mode()[:3]"
   ]
  },
  {
   "cell_type": "code",
   "execution_count": 211,
   "id": "e60d7c4e-7241-4a71-9fb4-bfa6b5321b8d",
   "metadata": {},
   "outputs": [
    {
     "data": {
      "text/html": [
       "<div>\n",
       "<style scoped>\n",
       "    .dataframe tbody tr th:only-of-type {\n",
       "        vertical-align: middle;\n",
       "    }\n",
       "\n",
       "    .dataframe tbody tr th {\n",
       "        vertical-align: top;\n",
       "    }\n",
       "\n",
       "    .dataframe thead th {\n",
       "        text-align: right;\n",
       "    }\n",
       "</style>\n",
       "<table border=\"1\" class=\"dataframe\">\n",
       "  <thead>\n",
       "    <tr style=\"text-align: right;\">\n",
       "      <th></th>\n",
       "      <th>gene_id</th>\n",
       "      <th>gene_name</th>\n",
       "      <th>gene_biotype</th>\n",
       "      <th>Chromosome</th>\n",
       "      <th>Strand</th>\n",
       "      <th>Source</th>\n",
       "      <th>Start</th>\n",
       "      <th>End</th>\n",
       "      <th>gene_version</th>\n",
       "    </tr>\n",
       "  </thead>\n",
       "  <tbody>\n",
       "    <tr>\n",
       "      <th>0</th>\n",
       "      <td>ENSOANG00000039864</td>\n",
       "      <td>NaN</td>\n",
       "      <td>protein_coding</td>\n",
       "      <td>1</td>\n",
       "      <td>+</td>\n",
       "      <td>ensembl</td>\n",
       "      <td>26897110</td>\n",
       "      <td>26969536</td>\n",
       "      <td>1</td>\n",
       "    </tr>\n",
       "    <tr>\n",
       "      <th>119</th>\n",
       "      <td>ENSOANG00000037521</td>\n",
       "      <td>NaN</td>\n",
       "      <td>snoRNA</td>\n",
       "      <td>1</td>\n",
       "      <td>+</td>\n",
       "      <td>ensembl</td>\n",
       "      <td>177628748</td>\n",
       "      <td>177628886</td>\n",
       "      <td>1</td>\n",
       "    </tr>\n",
       "    <tr>\n",
       "      <th>122</th>\n",
       "      <td>ENSOANG00000041896</td>\n",
       "      <td>NaN</td>\n",
       "      <td>snoRNA</td>\n",
       "      <td>1</td>\n",
       "      <td>+</td>\n",
       "      <td>ensembl</td>\n",
       "      <td>59133</td>\n",
       "      <td>59270</td>\n",
       "      <td>1</td>\n",
       "    </tr>\n",
       "  </tbody>\n",
       "</table>\n",
       "</div>"
      ],
      "text/plain": [
       "                gene_id gene_name    gene_biotype Chromosome Strand   Source  \\\n",
       "0    ENSOANG00000039864       NaN  protein_coding          1      +  ensembl   \n",
       "119  ENSOANG00000037521       NaN          snoRNA          1      +  ensembl   \n",
       "122  ENSOANG00000041896       NaN          snoRNA          1      +  ensembl   \n",
       "\n",
       "         Start        End gene_version  \n",
       "0     26897110   26969536            1  \n",
       "119  177628748  177628886            1  \n",
       "122      59133      59270            1  "
      ]
     },
     "execution_count": 211,
     "metadata": {},
     "output_type": "execute_result"
    }
   ],
   "source": [
    "# Finding unique 108 genes\n",
    "\n",
    "new_unique_ids[:3]"
   ]
  },
  {
   "cell_type": "code",
   "execution_count": 214,
   "id": "2ac783f5-a95a-4319-a227-80a5d2388f4b",
   "metadata": {},
   "outputs": [
    {
     "name": "stdout",
     "output_type": "stream",
     "text": [
      "2574\n"
     ]
    },
    {
     "data": {
      "text/html": [
       "<div>\n",
       "<style scoped>\n",
       "    .dataframe tbody tr th:only-of-type {\n",
       "        vertical-align: middle;\n",
       "    }\n",
       "\n",
       "    .dataframe tbody tr th {\n",
       "        vertical-align: top;\n",
       "    }\n",
       "\n",
       "    .dataframe thead th {\n",
       "        text-align: right;\n",
       "    }\n",
       "</style>\n",
       "<table border=\"1\" class=\"dataframe\">\n",
       "  <thead>\n",
       "    <tr style=\"text-align: right;\">\n",
       "      <th></th>\n",
       "      <th>gene_id</th>\n",
       "      <th>gene_name</th>\n",
       "      <th>gene_biotype</th>\n",
       "      <th>Chromosome</th>\n",
       "      <th>Strand</th>\n",
       "      <th>Source</th>\n",
       "      <th>Start</th>\n",
       "      <th>End</th>\n",
       "      <th>gene_version</th>\n",
       "    </tr>\n",
       "  </thead>\n",
       "  <tbody>\n",
       "    <tr>\n",
       "      <th>834</th>\n",
       "      <td>ENSOANG00000020697</td>\n",
       "      <td>RSRC1</td>\n",
       "      <td>protein_coding</td>\n",
       "      <td>1</td>\n",
       "      <td>+</td>\n",
       "      <td>ensembl</td>\n",
       "      <td>153133266</td>\n",
       "      <td>153515204</td>\n",
       "      <td>3</td>\n",
       "    </tr>\n",
       "    <tr>\n",
       "      <th>1053</th>\n",
       "      <td>ENSOANG00000003406</td>\n",
       "      <td>PPP2R3A</td>\n",
       "      <td>protein_coding</td>\n",
       "      <td>1</td>\n",
       "      <td>+</td>\n",
       "      <td>ensembl</td>\n",
       "      <td>167969318</td>\n",
       "      <td>168095719</td>\n",
       "      <td>4</td>\n",
       "    </tr>\n",
       "    <tr>\n",
       "      <th>1146</th>\n",
       "      <td>ENSOANG00000013086</td>\n",
       "      <td>ZSWIM6</td>\n",
       "      <td>protein_coding</td>\n",
       "      <td>1</td>\n",
       "      <td>+</td>\n",
       "      <td>ensembl</td>\n",
       "      <td>545181</td>\n",
       "      <td>608622</td>\n",
       "      <td>2</td>\n",
       "    </tr>\n",
       "  </tbody>\n",
       "</table>\n",
       "</div>"
      ],
      "text/plain": [
       "                 gene_id gene_name    gene_biotype Chromosome Strand   Source  \\\n",
       "834   ENSOANG00000020697     RSRC1  protein_coding          1      +  ensembl   \n",
       "1053  ENSOANG00000003406   PPP2R3A  protein_coding          1      +  ensembl   \n",
       "1146  ENSOANG00000013086    ZSWIM6  protein_coding          1      +  ensembl   \n",
       "\n",
       "          Start        End gene_version  \n",
       "834   153133266  153515204            3  \n",
       "1053  167969318  168095719            4  \n",
       "1146     545181     608622            2  "
      ]
     },
     "execution_count": 214,
     "metadata": {},
     "output_type": "execute_result"
    }
   ],
   "source": [
    "# Finding genes ids with no name in release 97 but were assigned a name in release 108\n",
    "\n",
    "shared_ids = old.find_shared_gene_ids(new.genes)\n",
    "old_shared_df = old.genes[old.genes[\"gene_id\"].isin(shared_ids)]\n",
    "new_shared_df = new.genes[new.genes[\"gene_id\"].isin(shared_ids)]\n",
    "\n",
    "nan_in_97 = old_shared_df[old_shared_df[\"gene_name\"].isna()][\"gene_id\"]\n",
    "nan_in_97_108 = new_shared_df[new_shared_df[\"gene_id\"].isin(nan_in_97)]\n",
    "name_in_108 = nan_in_97_108[~nan_in_97_108[\"gene_name\"].isna()]\n",
    "\n",
    "print(len(name_in_108))\n",
    "name_in_108[:3]"
   ]
  },
  {
   "cell_type": "code",
   "execution_count": 215,
   "id": "9078ef74-d95f-45db-8a98-d6e540bf7bb2",
   "metadata": {},
   "outputs": [
    {
     "name": "stdout",
     "output_type": "stream",
     "text": [
      "14785\n"
     ]
    },
    {
     "data": {
      "text/html": [
       "<div>\n",
       "<style scoped>\n",
       "    .dataframe tbody tr th:only-of-type {\n",
       "        vertical-align: middle;\n",
       "    }\n",
       "\n",
       "    .dataframe tbody tr th {\n",
       "        vertical-align: top;\n",
       "    }\n",
       "\n",
       "    .dataframe thead th {\n",
       "        text-align: right;\n",
       "    }\n",
       "</style>\n",
       "<table border=\"1\" class=\"dataframe\">\n",
       "  <thead>\n",
       "    <tr style=\"text-align: right;\">\n",
       "      <th></th>\n",
       "      <th>gene_id</th>\n",
       "      <th>gene_name</th>\n",
       "      <th>gene_biotype</th>\n",
       "      <th>Chromosome</th>\n",
       "      <th>Strand</th>\n",
       "      <th>Source</th>\n",
       "      <th>Start</th>\n",
       "      <th>End</th>\n",
       "      <th>gene_version</th>\n",
       "    </tr>\n",
       "  </thead>\n",
       "  <tbody>\n",
       "    <tr>\n",
       "      <th>149</th>\n",
       "      <td>ENSOANG00000030838</td>\n",
       "      <td>NaN</td>\n",
       "      <td>protein_coding</td>\n",
       "      <td>1</td>\n",
       "      <td>+</td>\n",
       "      <td>ensembl</td>\n",
       "      <td>2294145</td>\n",
       "      <td>2302661</td>\n",
       "      <td>1</td>\n",
       "    </tr>\n",
       "    <tr>\n",
       "      <th>232</th>\n",
       "      <td>ENSOANG00000035851</td>\n",
       "      <td>NaN</td>\n",
       "      <td>lincRNA</td>\n",
       "      <td>1</td>\n",
       "      <td>+</td>\n",
       "      <td>ensembl</td>\n",
       "      <td>3181459</td>\n",
       "      <td>3188904</td>\n",
       "      <td>1</td>\n",
       "    </tr>\n",
       "    <tr>\n",
       "      <th>241</th>\n",
       "      <td>ENSOANG00000033321</td>\n",
       "      <td>NaN</td>\n",
       "      <td>lincRNA</td>\n",
       "      <td>1</td>\n",
       "      <td>+</td>\n",
       "      <td>ensembl</td>\n",
       "      <td>3236383</td>\n",
       "      <td>3241790</td>\n",
       "      <td>1</td>\n",
       "    </tr>\n",
       "  </tbody>\n",
       "</table>\n",
       "</div>"
      ],
      "text/plain": [
       "                gene_id gene_name    gene_biotype Chromosome Strand   Source  \\\n",
       "149  ENSOANG00000030838       NaN  protein_coding          1      +  ensembl   \n",
       "232  ENSOANG00000035851       NaN         lincRNA          1      +  ensembl   \n",
       "241  ENSOANG00000033321       NaN         lincRNA          1      +  ensembl   \n",
       "\n",
       "       Start      End gene_version  \n",
       "149  2294145  2302661            1  \n",
       "232  3181459  3188904            1  \n",
       "241  3236383  3241790            1  "
      ]
     },
     "execution_count": 215,
     "metadata": {},
     "output_type": "execute_result"
    }
   ],
   "source": [
    "# Finding unique 97 genes that don't have a gene name\n",
    "\n",
    "old_unique_ids_no_name = old_unique_ids[old_unique_ids[\"gene_name\"].isna()]\n",
    "\n",
    "print(len(old_unique_ids_no_name))\n",
    "old_unique_ids_no_name[:3]"
   ]
  },
  {
   "cell_type": "code",
   "execution_count": 225,
   "id": "2cb6febf-620e-47d6-83e7-9a8412812e6a",
   "metadata": {},
   "outputs": [
    {
     "name": "stdout",
     "output_type": "stream",
     "text": [
      "4094\n"
     ]
    },
    {
     "data": {
      "text/html": [
       "<div>\n",
       "<style scoped>\n",
       "    .dataframe tbody tr th:only-of-type {\n",
       "        vertical-align: middle;\n",
       "    }\n",
       "\n",
       "    .dataframe tbody tr th {\n",
       "        vertical-align: top;\n",
       "    }\n",
       "\n",
       "    .dataframe thead th {\n",
       "        text-align: right;\n",
       "    }\n",
       "</style>\n",
       "<table border=\"1\" class=\"dataframe\">\n",
       "  <thead>\n",
       "    <tr style=\"text-align: right;\">\n",
       "      <th></th>\n",
       "      <th>gene_id</th>\n",
       "      <th>gene_name</th>\n",
       "      <th>gene_biotype</th>\n",
       "      <th>Chromosome</th>\n",
       "      <th>Strand</th>\n",
       "      <th>Source</th>\n",
       "      <th>Start</th>\n",
       "      <th>End</th>\n",
       "      <th>gene_version</th>\n",
       "    </tr>\n",
       "  </thead>\n",
       "  <tbody>\n",
       "    <tr>\n",
       "      <th>15</th>\n",
       "      <td>ENSOANG00000011202</td>\n",
       "      <td>MOCS2</td>\n",
       "      <td>protein_coding</td>\n",
       "      <td>1</td>\n",
       "      <td>+</td>\n",
       "      <td>ensembl</td>\n",
       "      <td>377292</td>\n",
       "      <td>387113</td>\n",
       "      <td>3</td>\n",
       "    </tr>\n",
       "    <tr>\n",
       "      <th>31</th>\n",
       "      <td>ENSOANG00000027707</td>\n",
       "      <td>RF01293</td>\n",
       "      <td>snoRNA</td>\n",
       "      <td>1</td>\n",
       "      <td>+</td>\n",
       "      <td>ensembl</td>\n",
       "      <td>998703</td>\n",
       "      <td>998876</td>\n",
       "      <td>1</td>\n",
       "    </tr>\n",
       "    <tr>\n",
       "      <th>284</th>\n",
       "      <td>ENSOANG00000011074</td>\n",
       "      <td>MBLAC2</td>\n",
       "      <td>protein_coding</td>\n",
       "      <td>1</td>\n",
       "      <td>+</td>\n",
       "      <td>ensembl</td>\n",
       "      <td>5264418</td>\n",
       "      <td>5275935</td>\n",
       "      <td>2</td>\n",
       "    </tr>\n",
       "  </tbody>\n",
       "</table>\n",
       "</div>"
      ],
      "text/plain": [
       "                gene_id gene_name    gene_biotype Chromosome Strand   Source  \\\n",
       "15   ENSOANG00000011202     MOCS2  protein_coding          1      +  ensembl   \n",
       "31   ENSOANG00000027707   RF01293          snoRNA          1      +  ensembl   \n",
       "284  ENSOANG00000011074    MBLAC2  protein_coding          1      +  ensembl   \n",
       "\n",
       "       Start      End gene_version  \n",
       "15    377292   387113            3  \n",
       "31    998703   998876            1  \n",
       "284  5264418  5275935            2  "
      ]
     },
     "execution_count": 225,
     "metadata": {},
     "output_type": "execute_result"
    }
   ],
   "source": [
    "# Finding unique 97 genes that have a gene name\n",
    "\n",
    "old_unique_ids_with_name = old_unique_ids[~old_unique_ids[\"gene_name\"].isna()]\n",
    "\n",
    "print(len(old_unique_ids_with_name))\n",
    "old_unique_ids_with_name[:3]"
   ]
  },
  {
   "cell_type": "code",
   "execution_count": 223,
   "id": "a8d126db-4233-457a-958c-e47bcca77328",
   "metadata": {},
   "outputs": [
    {
     "data": {
      "text/html": [
       "<div>\n",
       "<style scoped>\n",
       "    .dataframe tbody tr th:only-of-type {\n",
       "        vertical-align: middle;\n",
       "    }\n",
       "\n",
       "    .dataframe tbody tr th {\n",
       "        vertical-align: top;\n",
       "    }\n",
       "\n",
       "    .dataframe thead th {\n",
       "        text-align: right;\n",
       "    }\n",
       "</style>\n",
       "<table border=\"1\" class=\"dataframe\">\n",
       "  <thead>\n",
       "    <tr style=\"text-align: right;\">\n",
       "      <th></th>\n",
       "      <th>gene_id</th>\n",
       "      <th>gene_name</th>\n",
       "      <th>gene_biotype</th>\n",
       "      <th>Chromosome</th>\n",
       "      <th>Strand</th>\n",
       "      <th>Source</th>\n",
       "      <th>Start</th>\n",
       "      <th>End</th>\n",
       "      <th>gene_version</th>\n",
       "    </tr>\n",
       "  </thead>\n",
       "  <tbody>\n",
       "  </tbody>\n",
       "</table>\n",
       "</div>"
      ],
      "text/plain": [
       "Empty DataFrame\n",
       "Columns: [gene_id, gene_name, gene_biotype, Chromosome, Strand, Source, Start, End, gene_version]\n",
       "Index: []"
      ]
     },
     "execution_count": 223,
     "metadata": {},
     "output_type": "execute_result"
    }
   ],
   "source": [
    "# Show that the presence of a gene name makes it possible to find an analog in the 108 release by searching for the gene name,\n",
    "# but not always...\n",
    "\n",
    "new.genes[new.genes[\"gene_name\"] == \"ENSOANG00000011074\"]"
   ]
  },
  {
   "cell_type": "code",
   "execution_count": 222,
   "id": "ae4c8cdd-1928-4dfd-a326-ffdb8da36b8b",
   "metadata": {},
   "outputs": [
    {
     "name": "stdout",
     "output_type": "stream",
     "text": [
      "1114\n"
     ]
    },
    {
     "data": {
      "text/html": [
       "<div>\n",
       "<style scoped>\n",
       "    .dataframe tbody tr th:only-of-type {\n",
       "        vertical-align: middle;\n",
       "    }\n",
       "\n",
       "    .dataframe tbody tr th {\n",
       "        vertical-align: top;\n",
       "    }\n",
       "\n",
       "    .dataframe thead th {\n",
       "        text-align: right;\n",
       "    }\n",
       "</style>\n",
       "<table border=\"1\" class=\"dataframe\">\n",
       "  <thead>\n",
       "    <tr style=\"text-align: right;\">\n",
       "      <th></th>\n",
       "      <th>gene_id</th>\n",
       "      <th>gene_name</th>\n",
       "      <th>gene_biotype</th>\n",
       "      <th>Chromosome</th>\n",
       "      <th>Strand</th>\n",
       "      <th>Source</th>\n",
       "      <th>Start</th>\n",
       "      <th>End</th>\n",
       "      <th>gene_version</th>\n",
       "    </tr>\n",
       "  </thead>\n",
       "  <tbody>\n",
       "    <tr>\n",
       "      <th>351</th>\n",
       "      <td>ENSOANG00000047492</td>\n",
       "      <td>PTX3</td>\n",
       "      <td>protein_coding</td>\n",
       "      <td>1</td>\n",
       "      <td>+</td>\n",
       "      <td>ensembl</td>\n",
       "      <td>152430741</td>\n",
       "      <td>152436345</td>\n",
       "      <td>1</td>\n",
       "    </tr>\n",
       "    <tr>\n",
       "      <th>966</th>\n",
       "      <td>ENSOANG00000049528</td>\n",
       "      <td>MLF1</td>\n",
       "      <td>protein_coding</td>\n",
       "      <td>1</td>\n",
       "      <td>+</td>\n",
       "      <td>ensembl</td>\n",
       "      <td>153548019</td>\n",
       "      <td>153602694</td>\n",
       "      <td>1</td>\n",
       "    </tr>\n",
       "    <tr>\n",
       "      <th>1564</th>\n",
       "      <td>ENSOANG00000040965</td>\n",
       "      <td>VSNL1</td>\n",
       "      <td>protein_coding</td>\n",
       "      <td>1</td>\n",
       "      <td>+</td>\n",
       "      <td>ensembl</td>\n",
       "      <td>92964472</td>\n",
       "      <td>93157247</td>\n",
       "      <td>1</td>\n",
       "    </tr>\n",
       "  </tbody>\n",
       "</table>\n",
       "</div>"
      ],
      "text/plain": [
       "                 gene_id gene_name    gene_biotype Chromosome Strand   Source  \\\n",
       "351   ENSOANG00000047492      PTX3  protein_coding          1      +  ensembl   \n",
       "966   ENSOANG00000049528      MLF1  protein_coding          1      +  ensembl   \n",
       "1564  ENSOANG00000040965     VSNL1  protein_coding          1      +  ensembl   \n",
       "\n",
       "          Start        End gene_version  \n",
       "351   152430741  152436345            1  \n",
       "966   153548019  153602694            1  \n",
       "1564   92964472   93157247            1  "
      ]
     },
     "execution_count": 222,
     "metadata": {},
     "output_type": "execute_result"
    }
   ],
   "source": [
    "# Find genes with gene ids that only occur in release 97, but have a name that occurs in a gene with a different gene id in release 108\n",
    "\n",
    "also_in_108 = new.genes[new.genes[\"gene_name\"].isin(old_unique_ids_with_name[\"gene_name\"])]\n",
    "print(len(also_in_108))\n",
    "also_in_108[:3]"
   ]
  },
  {
   "cell_type": "markdown",
   "id": "0c03a39f-441d-42a3-bb3d-624a62d54c1b",
   "metadata": {},
   "source": [
    "### Making the graphs for the webpage"
   ]
  },
  {
   "cell_type": "code",
   "execution_count": 217,
   "id": "6645167e-ccff-4b25-a9ce-08dff51dbcda",
   "metadata": {},
   "outputs": [
    {
     "name": "stdout",
     "output_type": "stream",
     "text": [
      "\n"
     ]
    },
    {
     "data": {
      "image/png": "[encoded data removed]",
      "text/plain": [
       "<Figure size 1152x432 with 1 Axes>"
      ]
     },
     "metadata": {
      "needs_background": "light"
     },
     "output_type": "display_data"
    }
   ],
   "source": [
    "# Plot the gene categories against the number of times they occur in genes, for both assemblies - Part 1\n",
    "\n",
    "ng = new.genes\n",
    "\n",
    "categories1 = ng[\"gene_biotype\"].value_counts().index.tolist()[:7]\n",
    "new_category_counts1 = ng[\"gene_biotype\"].value_counts()[:7]\n",
    "old_category_counts1 = [21698, 2353, 3660, 439, 823, 547, 205]\n",
    "\n",
    "# Make a numpy array for the positional information of each \"bar pair\"\n",
    "x_axis = np.arange(len(categories1))\n",
    "\n",
    "fig = plt.figure(figsize=(16, 6))\n",
    "plt.title(\"Distribution of Gene Categories\")\n",
    "plt.xlabel(\"Gene Categories\")\n",
    "plt.ylabel(\"Number of Genes\")\n",
    "plt.xticks(x_axis, categories1)\n",
    "# Plot the new release gene category distribution\n",
    "bars1 = plt.bar(x_axis-0.1, new_category_counts1, 0.2, label=\"108 Release\", color=\"dodgerblue\")\n",
    "# Plot the old release gene category distribution\n",
    "bars2 = plt.bar(x_axis+0.1, old_category_counts1, 0.2, label=\"97 Release\", color=\"lightskyblue\")\n",
    "\n",
    "# Add exact numbers to each bar\n",
    "for i, bar in enumerate(bars1):\n",
    "    yval = bar.get_height()\n",
    "    plt.text(bar.get_x() + .025, yval + 200, yval)\n",
    "for bar in bars2:\n",
    "    yval = bar.get_height()\n",
    "    plt.text(bar.get_x() + .025, yval + 200, yval)\n",
    "\n",
    "# Add the legend\n",
    "new_patch = mpatches.Patch(color='dodgerblue', label='108 Release')\n",
    "old_patch = mpatches.Patch(color='skyblue', label='97 Release')\n",
    "only_new_patch = mpatches.Patch(color='pink', label='Category Only Present in 108 Release')\n",
    "plt.legend(handles=[new_patch, old_patch, only_new_patch])\n",
    "\n",
    "print()"
   ]
  },
  {
   "cell_type": "code",
   "execution_count": 218,
   "id": "602c091c-de3e-4ab0-8829-a344068bcaea",
   "metadata": {},
   "outputs": [
    {
     "name": "stdout",
     "output_type": "stream",
     "text": [
      "\n"
     ]
    },
    {
     "data": {
      "image/png": "[encoded data removed]",
      "text/plain": [
       "<Figure size 1152x432 with 1 Axes>"
      ]
     },
     "metadata": {
      "needs_background": "light"
     },
     "output_type": "display_data"
    }
   ],
   "source": [
    "# Plot the gene categories against the number of times they occur in genes, for both assemblies - Part 2\n",
    "\n",
    "ng = new.genes\n",
    "\n",
    "categories2 = ng[\"gene_biotype\"].value_counts().index.tolist()[7:]\n",
    "new_category_counts2 = ng[\"gene_biotype\"].value_counts()[7:]\n",
    "old_category_counts2 = [22, 0, 0, 0, 0, 0, 27, 2, 0]\n",
    "\n",
    "# Make a numpy array for the positional information of each \"bar pair\"\n",
    "x_axis = np.arange(len(categories2))\n",
    "\n",
    "fig = plt.figure(figsize=(16, 6))\n",
    "plt.title(\"Distribution of Gene Categories\")\n",
    "plt.xlabel(\"Gene Categories\")\n",
    "plt.ylabel(\"Number of Genes\")\n",
    "plt.xticks(x_axis, categories2)\n",
    "# Plot the new release gene category distribution\n",
    "bars1 = plt.bar(x_axis-0.1, new_category_counts2, 0.2, label=\"108 Release\", color=[\"dodgerblue\", \"pink\", \"pink\",\n",
    "                                                                           \"pink\", \"pink\", \"pink\", \"dodgerblue\", \"dodgerblue\", \"pink\"])\n",
    "# Plot the old release gene category distribution\n",
    "bars2 = plt.bar(x_axis+0.1, old_category_counts2, 0.2, label=\"97 Release\", color=\"lightskyblue\")\n",
    "\n",
    "# Add exact numbers to each bar\n",
    "for bar in bars1:\n",
    "    yval = bar.get_height()\n",
    "    plt.text(bar.get_x() + .025, yval + .2, yval)\n",
    "for bar in bars2:\n",
    "    yval = bar.get_height()\n",
    "    plt.text(bar.get_x() + .025, yval + .2, yval)\n",
    "\n",
    "# Add the legend\n",
    "new_patch = mpatches.Patch(color='dodgerblue', label='108 Release')\n",
    "old_patch = mpatches.Patch(color='skyblue', label='97 Release')\n",
    "only_new_patch = mpatches.Patch(color='pink', label='Category Only Present in 108 Release')\n",
    "plt.legend(handles=[new_patch, old_patch, only_new_patch])\n",
    "\n",
    "print()"
   ]
  },
  {
   "cell_type": "code",
   "execution_count": 219,
   "id": "dabaa187-710f-4599-9030-09acd3b17917",
   "metadata": {},
   "outputs": [
    {
     "name": "stdout",
     "output_type": "stream",
     "text": [
      "\n"
     ]
    },
    {
     "data": {
      "image/png": "[encoded data removed]",
      "text/plain": [
       "<Figure size 1152x432 with 1 Axes>"
      ]
     },
     "metadata": {
      "needs_background": "light"
     },
     "output_type": "display_data"
    }
   ],
   "source": [
    "# Plot the gene categories against the number of times they occur in transcripts, for both assemblies - Part 2\n",
    "\n",
    "ng = new.genes\n",
    "nt = new.transcripts\n",
    "\n",
    "categories1 = ng[\"gene_biotype\"].value_counts().index.tolist()[:7]\n",
    "new_category_counts1 = nt[\"transcript_biotype\"].value_counts()[:7]\n",
    "old_category_counts1 = [23584, 2353, 4007, 439, 823, 547, 205]\n",
    "\n",
    "\n",
    "# Make a numpy array for the positional information of each \"bar pair\"\n",
    "x_axis = np.arange(len(categories1))\n",
    "\n",
    "fig = plt.figure(figsize=(16, 6))\n",
    "plt.title(\"Number of Transcripts per Gene Category\")\n",
    "plt.xlabel(\"Gene Categories\")\n",
    "plt.ylabel(\"Number of Transcripts\")\n",
    "plt.xticks(x_axis, categories1)\n",
    "# Plot the new release gene category distribution\n",
    "bars1 = plt.bar(x_axis-0.1, new_category_counts1, 0.2, label=\"108 Release\", color=\"dodgerblue\")\n",
    "# Plot the old release gene category distribution\n",
    "bars2 = plt.bar(x_axis+0.1, old_category_counts1, 0.2, label=\"97 Release\", color=\"lightskyblue\")\n",
    "\n",
    "# Add exact numbers to each bar\n",
    "for i, bar in enumerate(bars1):\n",
    "    yval = bar.get_height()\n",
    "    if i < 3:\n",
    "        plt.text(bar.get_x() - .025, yval + 200, yval)\n",
    "    else:\n",
    "        plt.text(bar.get_x() + .025, yval + 200, yval)\n",
    "for i, bar in enumerate(bars2):\n",
    "    yval = bar.get_height()\n",
    "    if i < 3:\n",
    "        plt.text(bar.get_x(), yval + 200, yval)\n",
    "    else:\n",
    "        plt.text(bar.get_x() + .025, yval + 200, yval)\n",
    "\n",
    "# Add the legend\n",
    "new_patch = mpatches.Patch(color='dodgerblue', label='108 Release')\n",
    "old_patch = mpatches.Patch(color='skyblue', label='97 Release')\n",
    "only_new_patch = mpatches.Patch(color='pink', label='Category Only Present in 108 Release')\n",
    "astrisk_patch = mpatches.Patch(color=\"white\", label='Transcript Number is Higher than Gene Number for the Category')\n",
    "plt.legend(handles=[new_patch, old_patch, only_new_patch, astrisk_patch])\n",
    "\n",
    "print()"
   ]
  },
  {
   "cell_type": "code",
   "execution_count": 220,
   "id": "76ba8886-28b2-4aac-a610-250e91b89a63",
   "metadata": {},
   "outputs": [
    {
     "name": "stdout",
     "output_type": "stream",
     "text": [
      "\n"
     ]
    },
    {
     "data": {
      "image/png": "[encoded data removed]",
      "text/plain": [
       "<Figure size 1152x432 with 1 Axes>"
      ]
     },
     "metadata": {
      "needs_background": "light"
     },
     "output_type": "display_data"
    }
   ],
   "source": [
    "# Plot the gene categories against the number of times they occur in transcripts, for both assemblies - Part 2\n",
    "\n",
    "ng = new.genes\n",
    "nt = new.transcripts\n",
    "\n",
    "categories2 = ng[\"gene_biotype\"].value_counts().index.tolist()[7:]\n",
    "new_category_counts2 = nt[\"transcript_biotype\"].value_counts()[7:]\n",
    "old_category_counts2 = [22, 0, 0, 0, 0, 0, 27, 2, 0]\n",
    "\n",
    "# Make a numpy array for the positional information of each \"bar pair\"\n",
    "x_axis = np.arange(len(categories2))\n",
    "\n",
    "fig = plt.figure(figsize=(16, 6))\n",
    "plt.title(\"Number of Transcripts per Gene Category\")\n",
    "plt.xlabel(\"Gene Categories\")\n",
    "plt.ylabel(\"Number of Transcripts\")\n",
    "plt.xticks(x_axis, categories2)\n",
    "# Plot the new release gene category distribution\n",
    "bars1 = plt.bar(x_axis-0.1, new_category_counts2, 0.2, label=\"108 Release\", color=[\"dodgerblue\", \"pink\", \"pink\",\n",
    "                                                                           \"pink\", \"pink\", \"pink\", \"dodgerblue\", \"dodgerblue\", \"pink\"])\n",
    "# Plot the old release gene category distribution\n",
    "bars2 = plt.bar(x_axis+0.1, old_category_counts2, 0.2, label=\"97 Release\", color=\"lightskyblue\")\n",
    "\n",
    "# Add exact numbers to each bar\n",
    "for i, bar in enumerate(bars1):\n",
    "    yval = bar.get_height()\n",
    "    plt.text(bar.get_x() + .025, yval + .2, yval)\n",
    "for i, bar in enumerate(bars2):\n",
    "    yval = bar.get_height()\n",
    "    plt.text(bar.get_x() + .025, yval + .2, yval)\n",
    "\n",
    "# Add the legend\n",
    "new_patch = mpatches.Patch(color='dodgerblue', label='108 Release')\n",
    "old_patch = mpatches.Patch(color='skyblue', label='97 Release')\n",
    "only_new_patch = mpatches.Patch(color='pink', label='Category Only Present in 108 Release')\n",
    "astrisk_patch = mpatches.Patch(color=\"white\", label='Transcript Number is Higher than Gene Number for the Category')\n",
    "plt.legend(handles=[new_patch, old_patch, only_new_patch, astrisk_patch], loc=\"upper center\")\n",
    "\n",
    "print()"
   ]
  },
  {
   "cell_type": "code",
   "execution_count": 221,
   "id": "42cfd150-b1aa-46a2-80ff-3e6e882ad9a3",
   "metadata": {},
   "outputs": [
    {
     "name": "stdout",
     "output_type": "stream",
     "text": [
      "\n"
     ]
    },
    {
     "data": {
      "image/png": "[encoded data removed]",
      "text/plain": [
       "<Figure size 1152x432 with 1 Axes>"
      ]
     },
     "metadata": {
      "needs_background": "light"
     },
     "output_type": "display_data"
    }
   ],
   "source": [
    "# Plot the number of transcripts for each category of transcript number for New Assembly and Old Assembly\n",
    "\n",
    "nt = new.transcripts\n",
    "ot = old.transcripts\n",
    "\n",
    "trans_counts = [i+1 for i in range(10)]\n",
    "trans_freq_new = list(nt[\"gene_id\"].value_counts().value_counts())\n",
    "trans_freq_new[8], trans_freq_new[9] = trans_freq_new[9], trans_freq_new[8]\n",
    "trans_freq_old = list(ot[\"gene_id\"].value_counts().value_counts()) + [0, 0, 0, 0, 0, 0]\n",
    "\n",
    "# Make a numpy array for the positional information of each \"bar pair\"\n",
    "x_axis = np.arange(len(trans_counts))\n",
    "\n",
    "fig = plt.figure(figsize=(16, 6))\n",
    "plt.title(\"Number of Genes per Number of Transcripts\")\n",
    "plt.xlabel(\"Number of Transcripts in a Gene\")\n",
    "plt.ylabel(\"Number of Genes\")\n",
    "plt.xticks(x_axis, trans_counts)\n",
    "# Plot the new release distribution\n",
    "bars1 = plt.bar(x_axis-0.1, trans_freq_new, 0.2, label=\"108 Release\", color=\"dodgerblue\")\n",
    "# Plot the old release gene category distribution\n",
    "bars2 = plt.bar(x_axis+0.1, trans_freq_old, 0.2, label=\"97 Release\", color=\"lightskyblue\")\n",
    "\n",
    "# Add exact numbers to each bar\n",
    "for i, bar in enumerate(bars1):\n",
    "    yval = bar.get_height()\n",
    "    plt.text(bar.get_x() - .05, yval + 200, yval)\n",
    "for i, bar in enumerate(bars2):\n",
    "    yval = bar.get_height()\n",
    "    plt.text(bar.get_x() + .025, yval + 200, yval)\n",
    "\n",
    "# Add the legend\n",
    "plt.legend()\n",
    "\n",
    "print()"
   ]
  },
  {
   "cell_type": "code",
   "execution_count": null,
   "id": "e19ed5d7-395e-45eb-b6c7-762614b60d61",
   "metadata": {},
   "outputs": [],
   "source": []
  }
 ],
 "metadata": {
  "kernelspec": {
   "display_name": "Python 3 (ipykernel)",
   "language": "python",
   "name": "python3"
  },
  "language_info": {
   "codemirror_mode": {
    "name": "ipython",
    "version": 3
   },
   "file_extension": ".py",
   "mimetype": "text/x-python",
   "name": "python",
   "nbconvert_exporter": "python",
   "pygments_lexer": "ipython3",
   "version": "3.9.12"
  }
 },
 "nbformat": 4,
 "nbformat_minor": 5
}
